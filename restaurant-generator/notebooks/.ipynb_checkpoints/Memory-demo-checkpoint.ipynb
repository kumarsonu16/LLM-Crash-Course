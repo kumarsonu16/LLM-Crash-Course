{
 "cells": [
  {
   "cell_type": "markdown",
   "id": "36923ed5-05c9-4aa6-8d4f-35d4ac8004f7",
   "metadata": {},
   "source": [
    "Memory- Remember the past history (Conversation history)"
   ]
  },
  {
   "cell_type": "code",
   "execution_count": 5,
   "id": "387a4c40-e62e-4b47-a8b1-ad5769b31621",
   "metadata": {},
   "outputs": [],
   "source": [
    "from sceret_key import OPENAI_API_KEY\n",
    "import os\n",
    "\n",
    "os.environ['OPENAI_API_KEY'] = OPENAI_API_KEY\n",
    "# print(os.getenv('OPENAI_API_KEY'))"
   ]
  },
  {
   "cell_type": "code",
   "execution_count": 6,
   "id": "d63cbb6a-b2fe-42d4-8af5-367a84e0b761",
   "metadata": {},
   "outputs": [
    {
     "data": {
      "text/plain": [
       "{'cuisine': 'Mexican', 'text': '\\n\\n\"Cantina del Sol\" '}"
      ]
     },
     "execution_count": 6,
     "metadata": {},
     "output_type": "execute_result"
    }
   ],
   "source": [
    "from langchain_openai import OpenAI\n",
    "from langchain.chains import LLMChain\n",
    "from langchain.prompts import PromptTemplate\n",
    "\n",
    "llm = OpenAI(temperature=0.7)\n",
    "prompt_template_name = PromptTemplate(\n",
    "    input_variables =['cuisine'],\n",
    "    template = \"I want to open a restaurant for {cuisine} food. Suggest a fency name for this.\"\n",
    ")\n",
    "\n",
    "chain = LLMChain(llm=llm,prompt=prompt_template_name)\n",
    "chain.invoke (\"Mexican\")"
   ]
  },
  {
   "cell_type": "code",
   "execution_count": 7,
   "id": "9c42506b-cf1f-4e9f-9284-1886d6202a02",
   "metadata": {},
   "outputs": [],
   "source": [
    "name = chain.invoke('Indian')"
   ]
  },
  {
   "cell_type": "code",
   "execution_count": 8,
   "id": "852cdffe-e9f7-48b9-8e5c-6b028d61b3c2",
   "metadata": {},
   "outputs": [
    {
     "name": "stdout",
     "output_type": "stream",
     "text": [
      "{'cuisine': 'Indian', 'text': \"\\n\\n1. Maharaja's Palace\\n2. The Spice Kingdom\\n3. Tandoori Terrace\\n4. Saffron House\\n5. The Curry Club\\n6. Masala Mansion\\n7. Chai Chateau\\n8. Naan Nook\\n9. Bollywood Bites\\n10. Aroma Avenue\"}\n"
     ]
    }
   ],
   "source": [
    "print(name)"
   ]
  },
  {
   "cell_type": "code",
   "execution_count": 12,
   "id": "aa56c761-d55c-4dd4-862b-12c1ea60d25d",
   "metadata": {},
   "outputs": [
    {
     "ename": "AttributeError",
     "evalue": "'dict' object has no attribute 'memory'",
     "output_type": "error",
     "traceback": [
      "\u001b[1;31m---------------------------------------------------------------------------\u001b[0m",
      "\u001b[1;31mAttributeError\u001b[0m                            Traceback (most recent call last)",
      "Cell \u001b[1;32mIn[12], line 1\u001b[0m\n\u001b[1;32m----> 1\u001b[0m \u001b[38;5;28mtype\u001b[39m(name\u001b[38;5;241m.\u001b[39mmemory)\n",
      "\u001b[1;31mAttributeError\u001b[0m: 'dict' object has no attribute 'memory'"
     ]
    }
   ],
   "source": [
    "type(name.memory)"
   ]
  },
  {
   "cell_type": "markdown",
   "id": "63f58a7d-392c-4a61-8270-0edeff01ccfc",
   "metadata": {},
   "source": [
    "so no memory associated with the name as the above code has an error: AttributeError: 'dict' object has no attribute 'memory'"
   ]
  },
  {
   "cell_type": "code",
   "execution_count": 13,
   "id": "3e749965-889c-4e1b-8a07-00299f3d4a82",
   "metadata": {},
   "outputs": [
    {
     "name": "stdout",
     "output_type": "stream",
     "text": [
      "{'cuisine': 'Mexican', 'history': '', 'text': '\\n\\nCasa de Sabor (House of Flavor)'}\n"
     ]
    }
   ],
   "source": [
    "# ADD memory using ConversationBufferMemory\n",
    "\n",
    "from langchain.memory import ConversationBufferMemory\n",
    "memory = ConversationBufferMemory()\n",
    "chain = LLMChain(llm=llm, prompt=prompt_template_name, memory=memory)\n",
    "name = chain.invoke(\"Mexican\")\n",
    "print(name)"
   ]
  },
  {
   "cell_type": "code",
   "execution_count": 14,
   "id": "8e052a35-2727-403b-bf3a-d82b10f7b052",
   "metadata": {},
   "outputs": [
    {
     "name": "stdout",
     "output_type": "stream",
     "text": [
      "{'cuisine': 'indian', 'history': 'Human: Mexican\\nAI: \\n\\nCasa de Sabor (House of Flavor)', 'text': '\\n\\n\"Maharaja\\'s Palace: A Taste of India\"'}\n"
     ]
    }
   ],
   "source": [
    "name = chain.invoke(\"indian\")\n",
    "print(name)"
   ]
  },
  {
   "cell_type": "code",
   "execution_count": 15,
   "id": "3dd05dc0-d362-4ed6-a26a-187199d7b788",
   "metadata": {},
   "outputs": [
    {
     "name": "stdout",
     "output_type": "stream",
     "text": [
      "Human: Mexican\n",
      "AI: \n",
      "\n",
      "Casa de Sabor (House of Flavor)\n",
      "Human: indian\n",
      "AI: \n",
      "\n",
      "\"Maharaja's Palace: A Taste of India\"\n"
     ]
    }
   ],
   "source": [
    "print(chain.memory.buffer)"
   ]
  },
  {
   "cell_type": "markdown",
   "id": "9813c19c-2630-455d-834c-c019c2a60588",
   "metadata": {},
   "source": [
    "\r\n",
    "\r\n",
    "We can store memory data in the database as a shared transcript for our customers. \r\n",
    "\r\n",
    "**Problem**: The `ConversationBufferMemory` grows indefinitely, which means each time you ask a new question, it returns the entire conversation history. This increases the token usage, leading to higher costs from OpenAI.\r\n",
    "\r\n",
    "**Solution**: We should limit the memory buffer size. This can be achieved by using `ConversationChain` with a configured buffer limit."
   ]
  },
  {
   "cell_type": "code",
   "execution_count": 22,
   "id": "9f009337-7a4d-42ba-87c3-87119324ef76",
   "metadata": {},
   "outputs": [
    {
     "name": "stdout",
     "output_type": "stream",
     "text": [
      "The following is a friendly conversation between a human and an AI. The AI is talkative and provides lots of specific details from its context. If the AI does not know the answer to a question, it truthfully says it does not know.\n",
      "\n",
      "Current conversation:\n",
      "{history}\n",
      "Human: {input}\n",
      "AI:\n"
     ]
    }
   ],
   "source": [
    " from langchain.chains import ConversationChain\n",
    "convo = ConversationChain(llm=OpenAI(temperature=0.7))\n",
    "print(convo.prompt.template)\n",
    "                "
   ]
  },
  {
   "cell_type": "code",
   "execution_count": 23,
   "id": "31cd62d2-34c2-4a77-ae06-74d3ca292a34",
   "metadata": {},
   "outputs": [
    {
     "data": {
      "text/plain": [
       "{'input': 'Who won the first cricket world cup?',\n",
       " 'history': '',\n",
       " 'response': ' The first cricket world cup was won by the West Indies in 1975.'}"
      ]
     },
     "execution_count": 23,
     "metadata": {},
     "output_type": "execute_result"
    }
   ],
   "source": [
    "convo.invoke('Who won the first cricket world cup?')"
   ]
  },
  {
   "cell_type": "code",
   "execution_count": 24,
   "id": "92428b58-94d1-4d35-b5ed-71a3dfce4e80",
   "metadata": {},
   "outputs": [
    {
     "data": {
      "text/plain": [
       "{'input': 'what is 5+5',\n",
       " 'history': 'Human: Who won the first cricket world cup?\\nAI:  The first cricket world cup was won by the West Indies in 1975.',\n",
       " 'response': '  The answer is 10.'}"
      ]
     },
     "execution_count": 24,
     "metadata": {},
     "output_type": "execute_result"
    }
   ],
   "source": [
    "convo.invoke(\"what is 5+5\")"
   ]
  },
  {
   "cell_type": "code",
   "execution_count": 25,
   "id": "b850df89-18a4-4987-84a4-7eac0a0a3499",
   "metadata": {},
   "outputs": [
    {
     "data": {
      "text/plain": [
       "{'input': 'who has the captain of the winning team',\n",
       " 'history': 'Human: Who won the first cricket world cup?\\nAI:  The first cricket world cup was won by the West Indies in 1975.\\nHuman: what is 5+5\\nAI:   The answer is 10.',\n",
       " 'response': ' The captain of the winning team for the first cricket world cup in 1975 was Clive Lloyd.'}"
      ]
     },
     "execution_count": 25,
     "metadata": {},
     "output_type": "execute_result"
    }
   ],
   "source": [
    "convo.invoke(\"who has the captain of the winning team\")"
   ]
  },
  {
   "cell_type": "code",
   "execution_count": 26,
   "id": "f5c37c0b-5352-44eb-90ef-1e017a45f21e",
   "metadata": {},
   "outputs": [
    {
     "name": "stdout",
     "output_type": "stream",
     "text": [
      "Human: Who won the first cricket world cup?\n",
      "AI:  The first cricket world cup was won by the West Indies in 1975.\n",
      "Human: what is 5+5\n",
      "AI:   The answer is 10.\n",
      "Human: who has the captain of the winning team\n",
      "AI:  The captain of the winning team for the first cricket world cup in 1975 was Clive Lloyd.\n"
     ]
    }
   ],
   "source": [
    "print(convo.memory.buffer)"
   ]
  },
  {
   "cell_type": "code",
   "execution_count": 28,
   "id": "506772c8-5694-4111-84d6-b7e0228995ad",
   "metadata": {},
   "outputs": [
    {
     "data": {
      "text/plain": [
       "{'input': 'Who won the first cricket world cup?',\n",
       " 'history': '',\n",
       " 'response': ' The first cricket world cup was won by the West Indies in 1975. They defeated Australia in the final by 17 runs. The tournament was held in England and was officially called the Prudential Cup. Did you know that the West Indies team was led by Clive Lloyd and had players like Viv Richards, Gordon Greenidge, and Michael Holding?'}"
      ]
     },
     "execution_count": 28,
     "metadata": {},
     "output_type": "execute_result"
    }
   ],
   "source": [
    "# Restriction to window memory(specific size of data)\n",
    "\n",
    "from langchain.memory import ConversationBufferWindowMemory\n",
    "memory = ConversationBufferWindowMemory( k=1) # k deontes how many conversation need to be remember\n",
    "\n",
    "convo = ConversationChain(llm=OpenAI(temperature=0.7), memory=memory)\n",
    "convo.invoke(\"Who won the first cricket world cup?\")"
   ]
  },
  {
   "cell_type": "code",
   "execution_count": 29,
   "id": "274d9543-a901-4db3-a2e9-c72edab8af96",
   "metadata": {},
   "outputs": [
    {
     "data": {
      "text/plain": [
       "' 5+5 is equal to 10.'"
      ]
     },
     "execution_count": 29,
     "metadata": {},
     "output_type": "execute_result"
    }
   ],
   "source": [
    "convo.run('what is 5+5?')"
   ]
  },
  {
   "cell_type": "code",
   "execution_count": 30,
   "id": "91a77d11-fd34-4eeb-a0c7-a9e0dfc1d6d6",
   "metadata": {},
   "outputs": [
    {
     "data": {
      "text/plain": [
       "{'input': 'who has the captain of the winning team',\n",
       " 'history': 'Human: what is 5+5?\\nAI:  5+5 is equal to 10.',\n",
       " 'response': ' I do not have enough context to accurately answer that question. Can you provide me with more information?'}"
      ]
     },
     "execution_count": 30,
     "metadata": {},
     "output_type": "execute_result"
    }
   ],
   "source": [
    "convo.invoke(\"who has the captain of the winning team\")"
   ]
  },
  {
   "cell_type": "code",
   "execution_count": 31,
   "id": "56018d24-ad4e-4d3f-be29-9b89dd54455f",
   "metadata": {},
   "outputs": [
    {
     "data": {
      "text/plain": [
       "' The captain of the winning team could vary depending on the specific sport or game being played. Can you specify which team and game you are referring to?'"
      ]
     },
     "execution_count": 31,
     "metadata": {},
     "output_type": "execute_result"
    }
   ],
   "source": [
    "convo.run(\"who has the captain of the winning team\")"
   ]
  }
 ],
 "metadata": {
  "kernelspec": {
   "display_name": "Python 3 (ipykernel)",
   "language": "python",
   "name": "python3"
  },
  "language_info": {
   "codemirror_mode": {
    "name": "ipython",
    "version": 3
   },
   "file_extension": ".py",
   "mimetype": "text/x-python",
   "name": "python",
   "nbconvert_exporter": "python",
   "pygments_lexer": "ipython3",
   "version": "3.11.7"
  }
 },
 "nbformat": 4,
 "nbformat_minor": 5
}
