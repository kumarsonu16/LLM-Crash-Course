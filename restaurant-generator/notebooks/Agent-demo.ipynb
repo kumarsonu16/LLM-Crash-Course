{
 "cells": [
  {
   "cell_type": "markdown",
   "id": "b738aa7e-9c51-4f99-8346-90a451511e6b",
   "metadata": {},
   "source": [
    "Agent: Reasoning -->> do mathamatical operation on data "
   ]
  },
  {
   "cell_type": "code",
   "execution_count": 5,
   "id": "ae7c82a5-3647-42fc-a99f-1618a9598693",
   "metadata": {},
   "outputs": [
    {
     "name": "stdout",
     "output_type": "stream",
     "text": [
      "sk-proj-N5DMjGCG2FQxb5FZNEteT3BlbkFJkqUbFmqOJx7Oc5SImmUm\n"
     ]
    }
   ],
   "source": [
    "from sceret_key import OPENAI_API_KEY\n",
    "import os\n",
    "\n",
    "os.environ['OPENAI_API_KEY'] = OPENAI_API_KEY\n",
    "print(os.getenv('OPENAI_API_KEY'))"
   ]
  },
  {
   "cell_type": "code",
   "execution_count": null,
   "id": "6d1b9b9a-f2e5-482a-9cd7-f5e25ab6c2c5",
   "metadata": {},
   "outputs": [],
   "source": [
    "!pip install langchain-openai"
   ]
  },
  {
   "cell_type": "code",
   "execution_count": null,
   "id": "f77c390a-0e8a-420c-993b-8fa48dcc784b",
   "metadata": {},
   "outputs": [],
   "source": [
    "!pip install --upgrade langchain langchain_core"
   ]
  },
  {
   "cell_type": "code",
   "execution_count": null,
   "id": "4eea92d7-2ef8-47f1-ac57-d6fbff9fd14e",
   "metadata": {},
   "outputs": [],
   "source": [
    "!pip uninstall langchain langchain_core\n",
    "!pip install langchain langchain_core"
   ]
  },
  {
   "cell_type": "code",
   "execution_count": 6,
   "id": "edc43d2d-5f47-4a20-b3cb-2d3732206545",
   "metadata": {},
   "outputs": [],
   "source": [
    "from  langchain_openai import OpenAI\n",
    "llm = OpenAI(temperature=0.6)"
   ]
  },
  {
   "cell_type": "code",
   "execution_count": 7,
   "id": "f43c6020-64ec-4632-966a-1803f9492010",
   "metadata": {},
   "outputs": [
    {
     "name": "stderr",
     "output_type": "stream",
     "text": [
      "C:\\Users\\s.kumar\\AppData\\Local\\Temp\\ipykernel_26592\\900875117.py:5: LangChainDeprecationWarning: The method `Chain.run` was deprecated in langchain 0.1.0 and will be removed in 1.0. Use invoke instead.\n",
      "  agent.run(\"when was Elon mush born? what is his age right now in 2024\")\n"
     ]
    },
    {
     "name": "stdout",
     "output_type": "stream",
     "text": [
      "\n",
      "\n",
      "\u001b[1m> Entering new AgentExecutor chain...\u001b[0m\n",
      "\u001b[32;1m\u001b[1;3m I need to find out when Elon Musk was born and then calculate his age in 2024\n",
      "Action: wikipedia\n",
      "Action Input: \"Elon Musk\"\u001b[0m\n",
      "Observation: \u001b[36;1m\u001b[1;3mPage: Elon Musk\n",
      "Summary: Elon Reeve Musk  (; born June 28, 1971) is a businessman, conservative political activist, and investor known for his key roles in the space company SpaceX and the automotive company Tesla, Inc. Other involvements include ownership of X Corp., the company that operates the social media platform X (formerly known as Twitter), and his role in the founding of The Boring Company, xAI, Neuralink, and OpenAI. He is one of the wealthiest individuals in the world; as of August 2024 Forbes estimates his net worth to be US$247 billion.\n",
      "Musk was born in Pretoria to Maye (née Haldeman), a model, and Errol Musk, a businessman and engineer. Musk briefly attended the University of Pretoria before immigrating to Canada at the age of 18, acquiring citizenship through his Canadian-born mother. Two years later he matriculated at Queen's University at Kingston in Canada. Musk later transferred to the University of Pennsylvania and received bachelor's degrees in economics and physics. He moved to California in 1995 to attend Stanford University, but dropped out after two days and, with his brother Kimbal, co-founded the online city guide software company Zip2. The startup was acquired by Compaq for $307 million in 1999. That same year Musk co-founded X.com, a direct bank. X.com merged with Confinity in 2000 to form PayPal. In October 2002, eBay acquired PayPal for $1.5 billion. Using $100 million of the money he made from the sale of PayPal, Musk founded SpaceX, a spaceflight services company, in 2002. \n",
      "In 2004, Musk was an early investor who provided most of the initial financing in the electric-vehicle manufacturer Tesla Motors, Inc. (later Tesla, Inc.), assuming the position of the company's chairman. He later became the product architect and, in 2008, the CEO. In 2006, Musk helped create SolarCity, a solar energy company that was acquired by Tesla in 2016 and became Tesla Energy. In 2013, he proposed a hyperloop high-speed vactrain transportation system. In 2015, he co-founded OpenAI, a nonprofit artificial intelligence research company. The following year Musk co-founded Neuralink—a neurotechnology company developing brain–computer interfaces—and The Boring Company, a tunnel construction company. In 2018 the U.S. Securities and Exchange Commission (SEC) sued Musk, alleging that he had falsely announced that he had secured funding for a private takeover of Tesla. To settle the case Musk stepped down as the chairman of Tesla and paid a $20 million fine. In 2022, he acquired Twitter for $44 billion, merged the company into the newly-created X Corp. and rebranded the service as X the following year. In March 2023, Musk founded xAI, an artificial-intelligence company.\n",
      "Musk has expressed views that have made him a polarizing figure. He has been criticized for making unscientific and misleading statements, including COVID-19 misinformation, promoting right-wing conspiracy theories, and \"endorsing an antisemitic theory\"; he later apologized for the latter. His ownership of Twitter has been similarly controversial given the layoffs of large numbers of employees, an increase in hate speech, misinformation and disinformation posts on the website, and changes to Twitter Blue verification.\n",
      "\n",
      "Page: Views of Elon Musk\n",
      "Summary: Elon Musk is the CEO or owner of multiple companies including Tesla, SpaceX, and X Corp, and has expressed many views on a wide variety of subjects, ranging from politics to science.\n",
      "Musk has often been described as libertarian, but also describes himself as \"politically moderate\". Though following the COVID-19 pandemic his views have also been described as becoming more right-wing and conservative over time. Within the context of American politics, Musk has said he supported Barack Obama in 2008 and 2012, Hillary Clinton in 2016, Joe Biden in 2020, and Donald Trump in 2024. In 2022, Musk said he would start voting for Republican Party candidates, with him showing support for Vivek Ramaswamy in the 2024 Republi\u001b[0m\n",
      "Thought:\u001b[32;1m\u001b[1;3m I now have the information about when Elon Musk was born\n",
      "Action: Calculator\n",
      "Action Input: 2024 - 1971\u001b[0m\n",
      "Observation: \u001b[33;1m\u001b[1;3mAnswer: 53\u001b[0m\n",
      "Thought:\u001b[32;1m\u001b[1;3m I now know the final answer\n",
      "Final Answer: Elon Musk will be 53 years old in 2024.\u001b[0m\n",
      "\n",
      "\u001b[1m> Finished chain.\u001b[0m\n"
     ]
    },
    {
     "data": {
      "text/plain": [
       "'Elon Musk will be 53 years old in 2024.'"
      ]
     },
     "execution_count": 7,
     "metadata": {},
     "output_type": "execute_result"
    }
   ],
   "source": [
    "from langchain.agents import AgentType, initialize_agent, load_tools\n",
    "tools = load_tools(['wikipedia','llm-math'],llm=llm)\n",
    "\n",
    "agent = initialize_agent(tools, llm, agent= AgentType.ZERO_SHOT_REACT_DESCRIPTION,verbose=True)\n",
    "agent.run(\"when was Elon mush born? what is his age right now in 2024\")"
   ]
  },
  {
   "cell_type": "code",
   "execution_count": 1,
   "id": "e88fb05f-d187-4f80-b2e4-56e024c24aaf",
   "metadata": {},
   "outputs": [
    {
     "name": "stdout",
     "output_type": "stream",
     "text": [
      "Requirement already satisfied: wikipedia in c:\\users\\s.kumar\\appdata\\local\\anaconda3\\lib\\site-packages (1.4.0)\n",
      "Requirement already satisfied: beautifulsoup4 in c:\\users\\s.kumar\\appdata\\local\\anaconda3\\lib\\site-packages (from wikipedia) (4.12.2)\n",
      "Requirement already satisfied: requests<3.0.0,>=2.0.0 in c:\\users\\s.kumar\\appdata\\local\\anaconda3\\lib\\site-packages (from wikipedia) (2.31.0)\n",
      "Requirement already satisfied: charset-normalizer<4,>=2 in c:\\users\\s.kumar\\appdata\\local\\anaconda3\\lib\\site-packages (from requests<3.0.0,>=2.0.0->wikipedia) (3.3.2)\n",
      "Requirement already satisfied: idna<4,>=2.5 in c:\\users\\s.kumar\\appdata\\local\\anaconda3\\lib\\site-packages (from requests<3.0.0,>=2.0.0->wikipedia) (3.4)\n",
      "Requirement already satisfied: urllib3<3,>=1.21.1 in c:\\users\\s.kumar\\appdata\\local\\anaconda3\\lib\\site-packages (from requests<3.0.0,>=2.0.0->wikipedia) (2.0.7)\n",
      "Requirement already satisfied: certifi>=2017.4.17 in c:\\users\\s.kumar\\appdata\\local\\anaconda3\\lib\\site-packages (from requests<3.0.0,>=2.0.0->wikipedia) (2024.2.2)\n",
      "Requirement already satisfied: soupsieve>1.2 in c:\\users\\s.kumar\\appdata\\local\\anaconda3\\lib\\site-packages (from beautifulsoup4->wikipedia) (2.5)\n"
     ]
    }
   ],
   "source": [
    "!pip install wikipedia\n",
    "from langchain_community.tools import WikipediaQueryRun\n",
    "from langchain_community.utilities import WikipediaAPIWrapper"
   ]
  },
  {
   "cell_type": "code",
   "execution_count": 2,
   "id": "ef9c271a-1eeb-46ad-b01b-52203c7a1480",
   "metadata": {},
   "outputs": [
    {
     "data": {
      "text/plain": [
       "'Page: Acquisition of Twitter by Elon Musk\\nSummary: Business magnate Elon Musk initiated an acquisition of American social media company Twitter, Inc. on April 14, 2022, and concluded it on October 27, 2022. Musk had begun buying shares of the company in January 2022, becoming its largest shareholder by April with a 9.1 percent ownership stake. Twitter invited Musk to join its board of directors, an offer he initially accepted before declining. On April 14, Musk made an unsolicited offer to purchase the company, to which Twitter\\'s board responded with a \"poison pill\" strategy to resist a hostile takeover before unanimously accepting Musk\\'s buyout offer of $44 billion on April 25. Musk stated that he planned to introduce new features to the platform, make its algorithms open-source, combat spambot accounts, and promote free speech, framing the acquisition as the cornerstone of X, an \"everything app\".\\nIn July, Musk announced his intention to terminate the agreement, asserting that Twitter had breached their agreement by refusing to crack down on spambot accounts. The company filed a lawsuit against Musk in the Delaware Court of Chancery shortly thereafter, with a trial scheduled for the week of October 17. Weeks before the trial was set to begin, Musk reversed course, announcing that he would move forward with the acquisition. The deal was closed on October 28, with Musk immediately becoming Twitter\\'s new owner and CEO. Twitter was taken private and merged into a new parent company named X Corp. Musk promptly fired several top executives, including previous CEO Parag Agrawal. Musk has since proposed several reforms to Twitter and laid off half of the company\\'s workforce. Hundreds of employees then resigned from the company after Musk issued an ultimatum demanding they commit to \"extremely hardcore\" work. Linda Yaccarino was appointed CEO of X Corp. In July 2023, the Twitter service was rebranded as X.\\nReactions to the buyout were mixed, with praise for Musk\\'s planned reforms and vision for the company, particularly his calls for greater free speech, but criticism over fears of a potential rise in misinformation and disinformation, harassment, and hate speech on the platform. Within the United States, conservatives have largely supported the acquisition, while many liberals and former Twitter employees have voiced concerns about Musk\\'s intentions. Since becoming owner, Musk has faced backlash for his handling of the company and account suspensions, including the December 2022 suspensions of ten journalists.\\n\\n\\n\\nPage: Elon Musk\\nSummary: Elon Reeve Musk  (; born June 28, 1971) is a businessman, conservative political activist, and investor known for his key roles in the space company SpaceX and the automotive company Tesla, Inc. Other involvements include ownership of X Corp., the company that operates the social media platform X (formerly known as Twitter), and his role in the founding of The Boring Company, xAI, Neuralink, and OpenAI. He is one of the wealthiest individuals in the world; as of August 2024 Forbes estimates his net worth to be US$247 billion.\\nMusk was born in Pretoria to Maye (née Haldeman), a model, and Errol Musk, a businessman and engineer. Musk briefly attended the University of Pretoria before immigrating to Canada at the age of 18, acquiring citizenship through his Canadian-born mother. Two years later he matriculated at Queen\\'s University at Kingston in Canada. Musk later transferred to the University of Pennsylvania and received bachelor\\'s degrees in economics and physics. He moved to California in 1995 to attend Stanford University, but dropped out after two days and, with his brother Kimbal, co-founded the online city guide software company Zip2. The startup was acquired by Compaq for $307 million in 1999. That same year Musk co-founded X.com, a direct bank. X.com merged with Confinity in 2000 to form PayPal. In October 2002, eBay acquired PayPal for $1.5 billion. Using $100 million of the money he made fro'"
      ]
     },
     "execution_count": 2,
     "metadata": {},
     "output_type": "execute_result"
    }
   ],
   "source": [
    "wikipedia = WikipediaQueryRun(api_wrapper=WikipediaAPIWrapper())\n",
    "wikipedia.run(\"When was elon musk born? what is his age right now in 2023\")\n",
    "# This way we can get the Wikipedia page but not the exact age calculation as we get above by using Agent and tools\n",
    "# Agenet helps for perform the search and some mathematical calculations if needed\n"
   ]
  },
  {
   "cell_type": "markdown",
   "id": "a4e9d2f8-c98b-4a20-9e17-5e4439add1fd",
   "metadata": {},
   "source": [
    "SERPAPI and llm-math tool\n"
   ]
  },
  {
   "cell_type": "code",
   "execution_count": 3,
   "id": "ace5bd57-51f8-4ea4-a4a3-d591f503a494",
   "metadata": {},
   "outputs": [
    {
     "data": {
      "application/javascript": [
       "\n",
       "        if (window._pyforest_update_imports_cell) { window._pyforest_update_imports_cell('import os'); }\n",
       "    "
      ],
      "text/plain": [
       "<IPython.core.display.Javascript object>"
      ]
     },
     "metadata": {},
     "output_type": "display_data"
    },
    {
     "data": {
      "application/javascript": [
       "\n",
       "        if (window._pyforest_update_imports_cell) { window._pyforest_update_imports_cell('import os'); }\n",
       "    "
      ],
      "text/plain": [
       "<IPython.core.display.Javascript object>"
      ]
     },
     "metadata": {},
     "output_type": "display_data"
    },
    {
     "name": "stdout",
     "output_type": "stream",
     "text": [
      "2992e7e6088cc78596a4ccb75f1e17fc5b8045fe89a6b96b177b2f3358f81cd0\n"
     ]
    }
   ],
   "source": [
    "# SERPAPI_API to perform the Google search and get the result in a programmatic way like JSON data\n",
    "# make sure yoy have installed this package: pip install google-search-results\n",
    "# from secret_key import serpapi_key\n",
    "# os.environ['SERPAPI_API_KEY'] = serpapi_key\n",
    "from sceret_key import SERPAPI_KEY\n",
    "os.environ['SERPAPI_API_KEY'] = SERPAPI_KEY\n",
    "print(os.getenv('SERPAPI_API_KEY'))"
   ]
  },
  {
   "cell_type": "code",
   "execution_count": 11,
   "id": "27cb46b2-5784-491f-8b4d-5aa0ca3d6b1e",
   "metadata": {},
   "outputs": [
    {
     "name": "stdout",
     "output_type": "stream",
     "text": [
      "\n",
      "\n",
      "\u001b[1m> Entering new AgentExecutor chain...\u001b[0m\n",
      "\u001b[32;1m\u001b[1;3m I should use the search engine to find information about the GDP of the US in 2023.\n",
      "Action: Search\n",
      "Action Input: \"GDP of US in 2023\"\u001b[0m\n",
      "Observation: \u001b[36;1m\u001b[1;3mabout 27.36 trillion U.S. dollars\u001b[0m\n",
      "Thought:\u001b[32;1m\u001b[1;3m I should use the calculator to add 10 to the GDP.\n",
      "Action: Calculator\n",
      "Action Input: 27.36 trillion + 10\u001b[0m\n",
      "Observation: \u001b[33;1m\u001b[1;3mAnswer: 27360000000010\u001b[0m\n",
      "Thought:\u001b[32;1m\u001b[1;3m I now know the final answer.\n",
      "Final Answer: The GDP of the US in 2023 plus 10 is 27.36 trillion U.S. dollars.\u001b[0m\n",
      "\n",
      "\u001b[1m> Finished chain.\u001b[0m\n",
      "{'input': 'What was the GDP of US in 2023? once get the GDP the plush 10 do that', 'output': 'The GDP of the US in 2023 plus 10 is 27.36 trillion U.S. dollars.'}\n"
     ]
    }
   ],
   "source": [
    "from langchain.agents import AgentType, initialize_agent, load_tools\n",
    "llm = OpenAI(temperature=0)\n",
    "# The tools we'll give the Agent access to. Note that the 'llm-math' tool uses an LLM, so we need to pass that in.\n",
    "tools = load_tools([\"serpapi\", \"llm-math\"], llm=llm)\n",
    "\n",
    "# Finally, let's initialize an agent with the tools, the language model, and the type of agent we want to use.\n",
    "agent = initialize_agent(tools, llm, agent=AgentType.ZERO_SHOT_REACT_DESCRIPTION, verbose=True)\n",
    "\n",
    "# Let's test it out!\n",
    "response = agent.invoke({\"input\": \"What was the GDP of US in 2023? once get the GDP the plush 10 do that\"})\n",
    "print(response)"
   ]
  }
 ],
 "metadata": {
  "kernelspec": {
   "display_name": "Python 3 (ipykernel)",
   "language": "python",
   "name": "python3"
  },
  "language_info": {
   "codemirror_mode": {
    "name": "ipython",
    "version": 3
   },
   "file_extension": ".py",
   "mimetype": "text/x-python",
   "name": "python",
   "nbconvert_exporter": "python",
   "pygments_lexer": "ipython3",
   "version": "3.11.7"
  }
 },
 "nbformat": 4,
 "nbformat_minor": 5
}
