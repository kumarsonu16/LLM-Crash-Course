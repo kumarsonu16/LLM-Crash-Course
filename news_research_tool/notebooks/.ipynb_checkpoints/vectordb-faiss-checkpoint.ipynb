{
 "cells": [
  {
   "cell_type": "code",
   "execution_count": 1,
   "id": "a0fed2ff-1629-444f-b9f7-7a4102a76efe",
   "metadata": {},
   "outputs": [
    {
     "name": "stdout",
     "output_type": "stream",
     "text": [
      "Requirement already satisfied: faiss-cpu in c:\\users\\s.kumar\\appdata\\local\\anaconda3\\lib\\site-packages (1.8.0.post1)\n",
      "Requirement already satisfied: numpy<2.0,>=1.0 in c:\\users\\s.kumar\\appdata\\local\\anaconda3\\lib\\site-packages (from faiss-cpu) (1.26.4)\n",
      "Requirement already satisfied: packaging in c:\\users\\s.kumar\\appdata\\local\\anaconda3\\lib\\site-packages (from faiss-cpu) (24.1)\n",
      "Requirement already satisfied: sentence-transformers in c:\\users\\s.kumar\\appdata\\local\\anaconda3\\lib\\site-packages (3.0.1)\n",
      "Requirement already satisfied: transformers<5.0.0,>=4.34.0 in c:\\users\\s.kumar\\appdata\\local\\anaconda3\\lib\\site-packages (from sentence-transformers) (4.42.2)\n",
      "Requirement already satisfied: tqdm in c:\\users\\s.kumar\\appdata\\local\\anaconda3\\lib\\site-packages (from sentence-transformers) (4.65.0)\n",
      "Requirement already satisfied: torch>=1.11.0 in c:\\users\\s.kumar\\appdata\\local\\anaconda3\\lib\\site-packages (from sentence-transformers) (2.3.1)\n",
      "Requirement already satisfied: numpy in c:\\users\\s.kumar\\appdata\\local\\anaconda3\\lib\\site-packages (from sentence-transformers) (1.26.4)\n",
      "Requirement already satisfied: scikit-learn in c:\\users\\s.kumar\\appdata\\local\\anaconda3\\lib\\site-packages (from sentence-transformers) (1.2.2)\n",
      "Requirement already satisfied: scipy in c:\\users\\s.kumar\\appdata\\local\\anaconda3\\lib\\site-packages (from sentence-transformers) (1.11.4)\n",
      "Requirement already satisfied: huggingface-hub>=0.15.1 in c:\\users\\s.kumar\\appdata\\local\\anaconda3\\lib\\site-packages (from sentence-transformers) (0.23.4)\n",
      "Requirement already satisfied: Pillow in c:\\users\\s.kumar\\appdata\\local\\anaconda3\\lib\\site-packages (from sentence-transformers) (10.2.0)\n",
      "Requirement already satisfied: filelock in c:\\users\\s.kumar\\appdata\\local\\anaconda3\\lib\\site-packages (from huggingface-hub>=0.15.1->sentence-transformers) (3.13.1)\n",
      "Requirement already satisfied: fsspec>=2023.5.0 in c:\\users\\s.kumar\\appdata\\local\\anaconda3\\lib\\site-packages (from huggingface-hub>=0.15.1->sentence-transformers) (2023.10.0)\n",
      "Requirement already satisfied: packaging>=20.9 in c:\\users\\s.kumar\\appdata\\local\\anaconda3\\lib\\site-packages (from huggingface-hub>=0.15.1->sentence-transformers) (24.1)\n",
      "Requirement already satisfied: pyyaml>=5.1 in c:\\users\\s.kumar\\appdata\\local\\anaconda3\\lib\\site-packages (from huggingface-hub>=0.15.1->sentence-transformers) (6.0.1)\n",
      "Requirement already satisfied: requests in c:\\users\\s.kumar\\appdata\\local\\anaconda3\\lib\\site-packages (from huggingface-hub>=0.15.1->sentence-transformers) (2.31.0)\n",
      "Requirement already satisfied: typing-extensions>=3.7.4.3 in c:\\users\\s.kumar\\appdata\\local\\anaconda3\\lib\\site-packages (from huggingface-hub>=0.15.1->sentence-transformers) (4.12.2)\n",
      "Requirement already satisfied: sympy in c:\\users\\s.kumar\\appdata\\local\\anaconda3\\lib\\site-packages (from torch>=1.11.0->sentence-transformers) (1.12)\n",
      "Requirement already satisfied: networkx in c:\\users\\s.kumar\\appdata\\local\\anaconda3\\lib\\site-packages (from torch>=1.11.0->sentence-transformers) (3.1)\n",
      "Requirement already satisfied: jinja2 in c:\\users\\s.kumar\\appdata\\local\\anaconda3\\lib\\site-packages (from torch>=1.11.0->sentence-transformers) (3.1.3)\n",
      "Requirement already satisfied: mkl<=2021.4.0,>=2021.1.1 in c:\\users\\s.kumar\\appdata\\local\\anaconda3\\lib\\site-packages (from torch>=1.11.0->sentence-transformers) (2021.4.0)\n",
      "Requirement already satisfied: colorama in c:\\users\\s.kumar\\appdata\\local\\anaconda3\\lib\\site-packages (from tqdm->sentence-transformers) (0.4.6)\n",
      "Requirement already satisfied: regex!=2019.12.17 in c:\\users\\s.kumar\\appdata\\local\\anaconda3\\lib\\site-packages (from transformers<5.0.0,>=4.34.0->sentence-transformers) (2023.10.3)\n",
      "Requirement already satisfied: safetensors>=0.4.1 in c:\\users\\s.kumar\\appdata\\local\\anaconda3\\lib\\site-packages (from transformers<5.0.0,>=4.34.0->sentence-transformers) (0.4.3)\n",
      "Requirement already satisfied: tokenizers<0.20,>=0.19 in c:\\users\\s.kumar\\appdata\\local\\anaconda3\\lib\\site-packages (from transformers<5.0.0,>=4.34.0->sentence-transformers) (0.19.1)\n",
      "Requirement already satisfied: joblib>=1.1.1 in c:\\users\\s.kumar\\appdata\\local\\anaconda3\\lib\\site-packages (from scikit-learn->sentence-transformers) (1.2.0)\n",
      "Requirement already satisfied: threadpoolctl>=2.0.0 in c:\\users\\s.kumar\\appdata\\local\\anaconda3\\lib\\site-packages (from scikit-learn->sentence-transformers) (2.2.0)\n",
      "Requirement already satisfied: intel-openmp==2021.* in c:\\users\\s.kumar\\appdata\\local\\anaconda3\\lib\\site-packages (from mkl<=2021.4.0,>=2021.1.1->torch>=1.11.0->sentence-transformers) (2021.4.0)\n",
      "Requirement already satisfied: tbb==2021.* in c:\\users\\s.kumar\\appdata\\local\\anaconda3\\lib\\site-packages (from mkl<=2021.4.0,>=2021.1.1->torch>=1.11.0->sentence-transformers) (2021.13.0)\n",
      "Requirement already satisfied: MarkupSafe>=2.0 in c:\\users\\s.kumar\\appdata\\local\\anaconda3\\lib\\site-packages (from jinja2->torch>=1.11.0->sentence-transformers) (2.1.3)\n",
      "Requirement already satisfied: charset-normalizer<4,>=2 in c:\\users\\s.kumar\\appdata\\local\\anaconda3\\lib\\site-packages (from requests->huggingface-hub>=0.15.1->sentence-transformers) (3.3.2)\n",
      "Requirement already satisfied: idna<4,>=2.5 in c:\\users\\s.kumar\\appdata\\local\\anaconda3\\lib\\site-packages (from requests->huggingface-hub>=0.15.1->sentence-transformers) (3.4)\n",
      "Requirement already satisfied: urllib3<3,>=1.21.1 in c:\\users\\s.kumar\\appdata\\local\\anaconda3\\lib\\site-packages (from requests->huggingface-hub>=0.15.1->sentence-transformers) (2.0.7)\n",
      "Requirement already satisfied: certifi>=2017.4.17 in c:\\users\\s.kumar\\appdata\\local\\anaconda3\\lib\\site-packages (from requests->huggingface-hub>=0.15.1->sentence-transformers) (2024.2.2)\n",
      "Requirement already satisfied: mpmath>=0.19 in c:\\users\\s.kumar\\appdata\\local\\anaconda3\\lib\\site-packages (from sympy->torch>=1.11.0->sentence-transformers) (1.3.0)\n"
     ]
    }
   ],
   "source": [
    "!pip install faiss-cpu\n",
    "!pip install sentence-transformers"
   ]
  },
  {
   "cell_type": "code",
   "execution_count": 2,
   "id": "30f96760-eb47-4c08-b69f-aee34117a5bd",
   "metadata": {},
   "outputs": [],
   "source": [
    "import pandas as pd"
   ]
  },
  {
   "cell_type": "code",
   "execution_count": 4,
   "id": "86a7bbb9-fe38-42b2-84c9-2b5d77409bf2",
   "metadata": {},
   "outputs": [],
   "source": [
    "pd.set_option(\"display.max_colwidth\", 100)"
   ]
  },
  {
   "cell_type": "code",
   "execution_count": 6,
   "id": "34d81db4-8d85-4cb3-9e4e-34447a02315e",
   "metadata": {},
   "outputs": [],
   "source": [
    "df = pd.read_csv(\"sample_text.csv\")"
   ]
  },
  {
   "cell_type": "code",
   "execution_count": 7,
   "id": "55b04232-cbd4-4eeb-96af-c33ff8d973e0",
   "metadata": {},
   "outputs": [
    {
     "data": {
      "text/plain": [
       "(8, 2)"
      ]
     },
     "execution_count": 7,
     "metadata": {},
     "output_type": "execute_result"
    }
   ],
   "source": [
    "df.shape"
   ]
  },
  {
   "cell_type": "code",
   "execution_count": 8,
   "id": "5768495d-1409-4dd2-adf0-0cef00191bf2",
   "metadata": {},
   "outputs": [
    {
     "data": {
      "text/html": [
       "<div>\n",
       "<style scoped>\n",
       "    .dataframe tbody tr th:only-of-type {\n",
       "        vertical-align: middle;\n",
       "    }\n",
       "\n",
       "    .dataframe tbody tr th {\n",
       "        vertical-align: top;\n",
       "    }\n",
       "\n",
       "    .dataframe thead th {\n",
       "        text-align: right;\n",
       "    }\n",
       "</style>\n",
       "<table border=\"1\" class=\"dataframe\">\n",
       "  <thead>\n",
       "    <tr style=\"text-align: right;\">\n",
       "      <th></th>\n",
       "      <th>text</th>\n",
       "      <th>category</th>\n",
       "    </tr>\n",
       "  </thead>\n",
       "  <tbody>\n",
       "    <tr>\n",
       "      <th>0</th>\n",
       "      <td>Meditation and yoga can improve mental health</td>\n",
       "      <td>Health</td>\n",
       "    </tr>\n",
       "    <tr>\n",
       "      <th>1</th>\n",
       "      <td>Fruits, whole grains and vegetables helps control blood pressure</td>\n",
       "      <td>Health</td>\n",
       "    </tr>\n",
       "    <tr>\n",
       "      <th>2</th>\n",
       "      <td>These are the latest fashion trends for this week</td>\n",
       "      <td>Fashion</td>\n",
       "    </tr>\n",
       "    <tr>\n",
       "      <th>3</th>\n",
       "      <td>Vibrant color jeans for male are becoming a trend</td>\n",
       "      <td>Fashion</td>\n",
       "    </tr>\n",
       "    <tr>\n",
       "      <th>4</th>\n",
       "      <td>The concert starts at 7 PM tonight</td>\n",
       "      <td>Event</td>\n",
       "    </tr>\n",
       "    <tr>\n",
       "      <th>5</th>\n",
       "      <td>Navaratri dandiya program at Expo center in Mumbai this october</td>\n",
       "      <td>Event</td>\n",
       "    </tr>\n",
       "    <tr>\n",
       "      <th>6</th>\n",
       "      <td>Exciting vacation destinations for your next trip</td>\n",
       "      <td>Travel</td>\n",
       "    </tr>\n",
       "    <tr>\n",
       "      <th>7</th>\n",
       "      <td>Maldives and Srilanka are gaining popularity in terms of low budget vacation places</td>\n",
       "      <td>Travel</td>\n",
       "    </tr>\n",
       "  </tbody>\n",
       "</table>\n",
       "</div>"
      ],
      "text/plain": [
       "                                                                                  text  \\\n",
       "0                                        Meditation and yoga can improve mental health   \n",
       "1                     Fruits, whole grains and vegetables helps control blood pressure   \n",
       "2                                    These are the latest fashion trends for this week   \n",
       "3                                    Vibrant color jeans for male are becoming a trend   \n",
       "4                                                   The concert starts at 7 PM tonight   \n",
       "5                      Navaratri dandiya program at Expo center in Mumbai this october   \n",
       "6                                    Exciting vacation destinations for your next trip   \n",
       "7  Maldives and Srilanka are gaining popularity in terms of low budget vacation places   \n",
       "\n",
       "  category  \n",
       "0   Health  \n",
       "1   Health  \n",
       "2  Fashion  \n",
       "3  Fashion  \n",
       "4    Event  \n",
       "5    Event  \n",
       "6   Travel  \n",
       "7   Travel  "
      ]
     },
     "execution_count": 8,
     "metadata": {},
     "output_type": "execute_result"
    }
   ],
   "source": [
    "df"
   ]
  },
  {
   "cell_type": "markdown",
   "id": "6344f0a8-b814-4f0b-bd0f-376d3ae79f6a",
   "metadata": {},
   "source": [
    "### Step 1 : Create source embeddings for the text column"
   ]
  },
  {
   "cell_type": "code",
   "execution_count": 9,
   "id": "cda626b2-98ae-403d-a390-5fe33ddf9733",
   "metadata": {},
   "outputs": [
    {
     "name": "stdout",
     "output_type": "stream",
     "text": [
      "Requirement already satisfied: sentence-transformers in c:\\users\\s.kumar\\appdata\\local\\anaconda3\\lib\\site-packages (3.0.1)\n",
      "Requirement already satisfied: transformers<5.0.0,>=4.34.0 in c:\\users\\s.kumar\\appdata\\local\\anaconda3\\lib\\site-packages (from sentence-transformers) (4.42.2)\n",
      "Requirement already satisfied: tqdm in c:\\users\\s.kumar\\appdata\\local\\anaconda3\\lib\\site-packages (from sentence-transformers) (4.65.0)\n",
      "Requirement already satisfied: torch>=1.11.0 in c:\\users\\s.kumar\\appdata\\local\\anaconda3\\lib\\site-packages (from sentence-transformers) (2.3.1)\n",
      "Requirement already satisfied: numpy in c:\\users\\s.kumar\\appdata\\local\\anaconda3\\lib\\site-packages (from sentence-transformers) (1.26.4)\n",
      "Requirement already satisfied: scikit-learn in c:\\users\\s.kumar\\appdata\\local\\anaconda3\\lib\\site-packages (from sentence-transformers) (1.2.2)\n",
      "Requirement already satisfied: scipy in c:\\users\\s.kumar\\appdata\\local\\anaconda3\\lib\\site-packages (from sentence-transformers) (1.11.4)\n",
      "Requirement already satisfied: huggingface-hub>=0.15.1 in c:\\users\\s.kumar\\appdata\\local\\anaconda3\\lib\\site-packages (from sentence-transformers) (0.23.4)\n",
      "Requirement already satisfied: Pillow in c:\\users\\s.kumar\\appdata\\local\\anaconda3\\lib\\site-packages (from sentence-transformers) (10.2.0)\n",
      "Requirement already satisfied: filelock in c:\\users\\s.kumar\\appdata\\local\\anaconda3\\lib\\site-packages (from huggingface-hub>=0.15.1->sentence-transformers) (3.13.1)\n",
      "Requirement already satisfied: fsspec>=2023.5.0 in c:\\users\\s.kumar\\appdata\\local\\anaconda3\\lib\\site-packages (from huggingface-hub>=0.15.1->sentence-transformers) (2023.10.0)\n",
      "Requirement already satisfied: packaging>=20.9 in c:\\users\\s.kumar\\appdata\\local\\anaconda3\\lib\\site-packages (from huggingface-hub>=0.15.1->sentence-transformers) (24.1)\n",
      "Requirement already satisfied: pyyaml>=5.1 in c:\\users\\s.kumar\\appdata\\local\\anaconda3\\lib\\site-packages (from huggingface-hub>=0.15.1->sentence-transformers) (6.0.1)\n",
      "Requirement already satisfied: requests in c:\\users\\s.kumar\\appdata\\local\\anaconda3\\lib\\site-packages (from huggingface-hub>=0.15.1->sentence-transformers) (2.31.0)\n",
      "Requirement already satisfied: typing-extensions>=3.7.4.3 in c:\\users\\s.kumar\\appdata\\local\\anaconda3\\lib\\site-packages (from huggingface-hub>=0.15.1->sentence-transformers) (4.12.2)\n",
      "Requirement already satisfied: sympy in c:\\users\\s.kumar\\appdata\\local\\anaconda3\\lib\\site-packages (from torch>=1.11.0->sentence-transformers) (1.12)\n",
      "Requirement already satisfied: networkx in c:\\users\\s.kumar\\appdata\\local\\anaconda3\\lib\\site-packages (from torch>=1.11.0->sentence-transformers) (3.1)\n",
      "Requirement already satisfied: jinja2 in c:\\users\\s.kumar\\appdata\\local\\anaconda3\\lib\\site-packages (from torch>=1.11.0->sentence-transformers) (3.1.3)\n",
      "Requirement already satisfied: mkl<=2021.4.0,>=2021.1.1 in c:\\users\\s.kumar\\appdata\\local\\anaconda3\\lib\\site-packages (from torch>=1.11.0->sentence-transformers) (2021.4.0)\n",
      "Requirement already satisfied: colorama in c:\\users\\s.kumar\\appdata\\local\\anaconda3\\lib\\site-packages (from tqdm->sentence-transformers) (0.4.6)\n",
      "Requirement already satisfied: regex!=2019.12.17 in c:\\users\\s.kumar\\appdata\\local\\anaconda3\\lib\\site-packages (from transformers<5.0.0,>=4.34.0->sentence-transformers) (2023.10.3)\n",
      "Requirement already satisfied: safetensors>=0.4.1 in c:\\users\\s.kumar\\appdata\\local\\anaconda3\\lib\\site-packages (from transformers<5.0.0,>=4.34.0->sentence-transformers) (0.4.3)\n",
      "Requirement already satisfied: tokenizers<0.20,>=0.19 in c:\\users\\s.kumar\\appdata\\local\\anaconda3\\lib\\site-packages (from transformers<5.0.0,>=4.34.0->sentence-transformers) (0.19.1)\n",
      "Requirement already satisfied: joblib>=1.1.1 in c:\\users\\s.kumar\\appdata\\local\\anaconda3\\lib\\site-packages (from scikit-learn->sentence-transformers) (1.2.0)\n",
      "Requirement already satisfied: threadpoolctl>=2.0.0 in c:\\users\\s.kumar\\appdata\\local\\anaconda3\\lib\\site-packages (from scikit-learn->sentence-transformers) (2.2.0)\n",
      "Requirement already satisfied: intel-openmp==2021.* in c:\\users\\s.kumar\\appdata\\local\\anaconda3\\lib\\site-packages (from mkl<=2021.4.0,>=2021.1.1->torch>=1.11.0->sentence-transformers) (2021.4.0)\n",
      "Requirement already satisfied: tbb==2021.* in c:\\users\\s.kumar\\appdata\\local\\anaconda3\\lib\\site-packages (from mkl<=2021.4.0,>=2021.1.1->torch>=1.11.0->sentence-transformers) (2021.13.0)\n",
      "Requirement already satisfied: MarkupSafe>=2.0 in c:\\users\\s.kumar\\appdata\\local\\anaconda3\\lib\\site-packages (from jinja2->torch>=1.11.0->sentence-transformers) (2.1.3)\n",
      "Requirement already satisfied: charset-normalizer<4,>=2 in c:\\users\\s.kumar\\appdata\\local\\anaconda3\\lib\\site-packages (from requests->huggingface-hub>=0.15.1->sentence-transformers) (3.3.2)\n",
      "Requirement already satisfied: idna<4,>=2.5 in c:\\users\\s.kumar\\appdata\\local\\anaconda3\\lib\\site-packages (from requests->huggingface-hub>=0.15.1->sentence-transformers) (3.4)\n",
      "Requirement already satisfied: urllib3<3,>=1.21.1 in c:\\users\\s.kumar\\appdata\\local\\anaconda3\\lib\\site-packages (from requests->huggingface-hub>=0.15.1->sentence-transformers) (2.0.7)\n",
      "Requirement already satisfied: certifi>=2017.4.17 in c:\\users\\s.kumar\\appdata\\local\\anaconda3\\lib\\site-packages (from requests->huggingface-hub>=0.15.1->sentence-transformers) (2024.2.2)\n",
      "Requirement already satisfied: mpmath>=0.19 in c:\\users\\s.kumar\\appdata\\local\\anaconda3\\lib\\site-packages (from sympy->torch>=1.11.0->sentence-transformers) (1.3.0)\n"
     ]
    }
   ],
   "source": [
    "!pip install sentence-transformers"
   ]
  },
  {
   "cell_type": "code",
   "execution_count": 10,
   "id": "95293ee7-4f55-4635-9b44-72935c1fd004",
   "metadata": {},
   "outputs": [
    {
     "name": "stderr",
     "output_type": "stream",
     "text": [
      "C:\\Users\\s.kumar\\AppData\\Local\\anaconda3\\Lib\\site-packages\\sentence_transformers\\cross_encoder\\CrossEncoder.py:11: TqdmExperimentalWarning: Using `tqdm.autonotebook.tqdm` in notebook mode. Use `tqdm.tqdm` instead to force console mode (e.g. in jupyter console)\n",
      "  from tqdm.autonotebook import tqdm, trange\n"
     ]
    }
   ],
   "source": [
    "from sentence_transformers import SentenceTransformer\n",
    "# this library for converting the above data to vector"
   ]
  },
  {
   "cell_type": "code",
   "execution_count": 11,
   "id": "0d35205f-0502-40a3-98c2-c668c1865b9b",
   "metadata": {},
   "outputs": [],
   "source": [
    "encoder = SentenceTransformer('all-mpnet-base-v2') # all-mpnet-base-v2 is a model from hugging face "
   ]
  },
  {
   "cell_type": "code",
   "execution_count": 12,
   "id": "317a0d2f-c1d6-495c-a68b-c6c8d50a6c00",
   "metadata": {},
   "outputs": [
    {
     "data": {
      "text/plain": [
       "(8, 768)"
      ]
     },
     "execution_count": 12,
     "metadata": {},
     "output_type": "execute_result"
    }
   ],
   "source": [
    "vectors = encoder.encode(df.text)\n",
    "vectors.shape"
   ]
  },
  {
   "cell_type": "code",
   "execution_count": 13,
   "id": "fa67ada1-33cc-4de0-ab44-4cf3a1d73021",
   "metadata": {},
   "outputs": [
    {
     "data": {
      "text/plain": [
       "768"
      ]
     },
     "execution_count": 13,
     "metadata": {},
     "output_type": "execute_result"
    }
   ],
   "source": [
    "dim = vectors.shape[1]\n",
    "dim"
   ]
  },
  {
   "cell_type": "markdown",
   "id": "665b93ec-b798-4306-b8eb-579b17285607",
   "metadata": {},
   "source": [
    "### Step 2 : Build a FAISS Index for vectors"
   ]
  },
  {
   "cell_type": "code",
   "execution_count": 15,
   "id": "181c4b42-643c-44bb-8f0f-089eba2a6dc9",
   "metadata": {},
   "outputs": [
    {
     "data": {
      "text/plain": [
       "<faiss.swigfaiss_avx2.IndexFlatL2; proxy of <Swig Object of type 'faiss::IndexFlatL2 *' at 0x00000220C3D0B8D0> >"
      ]
     },
     "execution_count": 15,
     "metadata": {},
     "output_type": "execute_result"
    }
   ],
   "source": [
    "import faiss\n",
    "index = faiss.IndexFlatL2(dim) # create indexing\n",
    "index"
   ]
  },
  {
   "cell_type": "markdown",
   "id": "a17f8c83-b7bd-45ae-9eaa-250874ff9039",
   "metadata": {},
   "source": [
    "### Step 3 : Normalize the source vectors (as we are using L2 distance to measure similarity) and add to the index"
   ]
  },
  {
   "cell_type": "code",
   "execution_count": 16,
   "id": "ecc37819-0ab8-4e54-825d-d3fe685ed0a1",
   "metadata": {},
   "outputs": [],
   "source": [
    "index.add(vectors)"
   ]
  },
  {
   "cell_type": "markdown",
   "id": "7740d4b8-0c9a-4ce7-ac60-67ae39c8e591",
   "metadata": {},
   "source": [
    "### Step 4 : Encode search text using same encorder and normalize the output vector"
   ]
  },
  {
   "cell_type": "code",
   "execution_count": 17,
   "id": "2516f8a9-b165-4ea6-919b-2ee22d0cd13e",
   "metadata": {},
   "outputs": [
    {
     "data": {
      "text/plain": [
       "(768,)"
      ]
     },
     "execution_count": 17,
     "metadata": {},
     "output_type": "execute_result"
    }
   ],
   "source": [
    "search_query = \"I want to buy a polo t-shirt\"\n",
    "# search_query = \"looking for places to visit during the holidays\"\n",
    "# search_query = \"An apple a day keeps the doctor away\"\n",
    "vec = encoder.encode(search_query)\n",
    "vec.shape"
   ]
  },
  {
   "cell_type": "markdown",
   "id": "82e6432c-98fb-4490-a451-e63387ba3ff7",
   "metadata": {},
   "source": [
    "Using numpy to convert one dimension to 2 dimensions"
   ]
  },
  {
   "cell_type": "code",
   "execution_count": 18,
   "id": "c0b9ccde-eeef-4bb0-82e5-cf181f6284a7",
   "metadata": {},
   "outputs": [],
   "source": [
    "import numpy as np"
   ]
  },
  {
   "cell_type": "code",
   "execution_count": 20,
   "id": "944ec22d-95f7-4cb4-85bd-9615a688a65f",
   "metadata": {},
   "outputs": [],
   "source": [
    "svec  = np.array(vec).reshape(1,-1)"
   ]
  },
  {
   "cell_type": "code",
   "execution_count": 21,
   "id": "6d409f73-7048-47d3-803d-59e23d7f1987",
   "metadata": {},
   "outputs": [
    {
     "data": {
      "text/plain": [
       "(1, 768)"
      ]
     },
     "execution_count": 21,
     "metadata": {},
     "output_type": "execute_result"
    }
   ],
   "source": [
    "svec.shape"
   ]
  },
  {
   "cell_type": "code",
   "execution_count": 22,
   "id": "dd85eaf3-3223-4ac0-b6d6-adeb675774a9",
   "metadata": {},
   "outputs": [
    {
     "data": {
      "text/plain": [
       "array([[ 1.03882728e-02,  2.78686285e-02, -1.18618701e-02,\n",
       "         1.81327295e-02,  1.21981162e-03, -1.42995799e-02,\n",
       "         1.96229182e-02,  2.07198337e-02, -2.23660879e-02,\n",
       "         4.75626662e-02,  1.77975912e-02, -8.00332893e-03,\n",
       "         2.53419764e-02,  5.26149049e-02,  8.44942499e-03,\n",
       "        -1.63944121e-02,  1.02661792e-02, -2.74856240e-02,\n",
       "         8.37067366e-02, -1.52885243e-02,  1.67682637e-02,\n",
       "        -3.97139508e-03, -2.74348501e-02,  5.02091646e-02,\n",
       "        -8.36521201e-03, -4.74076085e-02,  2.36915667e-02,\n",
       "        -1.01186326e-02, -2.82840468e-02,  7.94265792e-03,\n",
       "         4.21435982e-02, -4.19374323e-03, -1.91232339e-02,\n",
       "        -3.12785842e-02,  1.24685073e-06, -1.04428288e-02,\n",
       "        -2.19971128e-02, -8.66928250e-02, -1.88498350e-03,\n",
       "        -2.54772287e-02, -9.72971786e-03,  7.93310255e-02,\n",
       "        -3.55963483e-02, -3.05362919e-04, -1.12392111e-02,\n",
       "        -3.88932340e-02,  5.49313687e-02,  1.35207996e-01,\n",
       "        -8.19147676e-02,  1.18785277e-02, -9.01845563e-03,\n",
       "         1.92544218e-02, -2.82723513e-02, -3.29267047e-02,\n",
       "        -2.20106579e-02, -4.29835953e-02,  3.70104536e-02,\n",
       "        -4.80649434e-02,  9.49259009e-03,  3.51585783e-02,\n",
       "         4.88772616e-02, -3.28933895e-02, -1.24120321e-02,\n",
       "        -1.64292809e-02,  3.93721722e-02,  2.69109607e-02,\n",
       "         6.15458600e-02, -4.14123293e-03,  1.75675526e-02,\n",
       "         1.53993294e-02,  9.60059837e-03, -5.69614349e-04,\n",
       "        -4.83582653e-02,  4.25832309e-02,  1.10985730e-02,\n",
       "        -4.66182418e-02, -2.10592547e-03, -5.81461415e-02,\n",
       "         1.40413102e-02,  1.00883739e-02, -2.44589821e-02,\n",
       "         1.42714269e-02, -2.10581906e-02,  7.38854781e-02,\n",
       "        -2.23949086e-02,  1.38753094e-02, -1.33593543e-03,\n",
       "         9.21315886e-03, -2.84222718e-02, -4.04206850e-03,\n",
       "        -1.71393324e-02, -8.46521650e-03, -2.83983964e-02,\n",
       "        -3.69299687e-02, -9.47201401e-02, -3.26580182e-02,\n",
       "         2.60049570e-02,  1.31179160e-02,  1.51670845e-02,\n",
       "        -2.12378427e-03,  1.48178143e-02,  1.37817003e-02,\n",
       "         1.25304051e-02, -5.01475297e-03,  3.56062911e-02,\n",
       "         5.93453683e-02, -5.03397174e-02, -9.55993310e-03,\n",
       "        -7.23669082e-02,  9.45844688e-03,  1.54202888e-02,\n",
       "        -7.03749526e-03, -3.10014673e-02, -8.86358693e-03,\n",
       "        -2.98000574e-02, -8.84008035e-02, -2.25058831e-02,\n",
       "        -3.25824432e-02,  4.78070676e-02,  2.14029616e-03,\n",
       "         1.37761026e-03, -1.25066144e-02, -1.15712779e-02,\n",
       "         2.34021712e-02,  3.43837449e-03,  2.69362815e-02,\n",
       "        -6.23307340e-02, -5.29252784e-03,  1.73167244e-03,\n",
       "         3.20439525e-02,  2.13075473e-04, -1.54123651e-02,\n",
       "         5.08342758e-02, -4.52312455e-02, -1.67428590e-02,\n",
       "        -3.47918719e-02, -4.16715592e-02, -2.34929267e-02,\n",
       "         2.40792637e-03, -2.15251166e-02,  3.07014794e-03,\n",
       "         2.54970938e-02,  3.60133201e-02,  2.68478151e-02,\n",
       "        -4.22385968e-02, -2.45388635e-02,  3.93798202e-02,\n",
       "         6.31314190e-03,  2.03843638e-02, -2.22934484e-02,\n",
       "        -7.87320640e-03, -1.47401178e-02,  4.87235822e-02,\n",
       "        -2.55933534e-02, -1.08921044e-02, -3.37022468e-02,\n",
       "         4.69094552e-02,  1.95821151e-02,  4.13407572e-03,\n",
       "         2.72842702e-02,  4.72956250e-04,  2.55070776e-02,\n",
       "        -5.26176244e-02,  3.57674658e-02, -5.46479877e-03,\n",
       "        -3.90752330e-02, -4.51455750e-02, -1.37631390e-02,\n",
       "         5.50720654e-02,  3.80344093e-02, -4.58984636e-02,\n",
       "         4.83392878e-03, -2.92574540e-02, -4.76555899e-03,\n",
       "         9.17752981e-02, -9.70400348e-02,  1.05631799e-01,\n",
       "        -5.64410873e-02, -6.33301064e-02,  3.45335677e-02,\n",
       "        -5.77132702e-02, -1.21777304e-01,  9.45344288e-03,\n",
       "         2.02731695e-02,  2.63031553e-02,  3.96902487e-03,\n",
       "        -3.88276577e-02, -1.57009009e-02, -3.47952358e-02,\n",
       "        -3.07988264e-02,  3.24620344e-02, -4.84479815e-02,\n",
       "         4.39479016e-03, -1.72206908e-02,  1.15614028e-04,\n",
       "        -3.72782089e-02, -5.17302491e-02, -1.91914532e-02,\n",
       "        -3.10722739e-02,  4.77239303e-03, -5.49006611e-02,\n",
       "        -1.40048889e-02,  2.99301445e-02,  9.23176408e-02,\n",
       "        -2.96304598e-02,  2.45515648e-02,  3.50713432e-02,\n",
       "        -5.64088020e-03,  1.57489069e-02,  2.08431613e-02,\n",
       "         5.11531979e-02,  7.25736376e-03,  4.40722471e-03,\n",
       "        -2.58072168e-02,  4.99890838e-03, -1.47746422e-03,\n",
       "        -4.42323508e-03,  4.48388197e-02,  7.79227540e-02,\n",
       "         1.65748056e-02, -3.80822532e-02,  3.76828089e-02,\n",
       "         1.02415718e-01, -1.61059164e-02,  7.32476637e-02,\n",
       "        -1.11488225e-02,  3.81629393e-02,  2.02278737e-02,\n",
       "        -1.23597085e-02,  2.38338653e-02, -2.99291406e-02,\n",
       "        -7.08031561e-03,  1.23010091e-02, -6.69543026e-03,\n",
       "        -6.65793270e-02,  6.94696754e-02,  1.02031594e-02,\n",
       "        -2.23912969e-02, -1.79656744e-02, -3.10913697e-02,\n",
       "        -3.04419789e-02, -2.43375320e-02,  2.62913629e-02,\n",
       "        -1.44890947e-02, -3.44526544e-02,  3.69897601e-03,\n",
       "         2.34962068e-02, -2.20465567e-02, -6.40620217e-02,\n",
       "        -3.29653285e-02, -1.13152508e-02,  4.46261615e-02,\n",
       "         2.82178540e-02, -1.32326726e-02, -2.48316694e-02,\n",
       "        -4.16193791e-02, -3.17104273e-02, -2.90314574e-03,\n",
       "        -2.58374214e-02, -2.38407850e-02,  4.09953333e-02,\n",
       "        -3.72038707e-02,  3.80427279e-02,  2.60184631e-02,\n",
       "         3.78452390e-02, -1.22930203e-02, -1.78747140e-02,\n",
       "         2.22685188e-02, -1.39293773e-02,  3.33373295e-03,\n",
       "        -1.01043349e-02, -9.42678899e-02,  2.93328092e-02,\n",
       "        -2.11533867e-02, -8.28087609e-03,  9.39182751e-03,\n",
       "         7.01195225e-02, -2.47648265e-02, -7.45412987e-03,\n",
       "         1.81595385e-02,  2.10114066e-02,  5.30432388e-02,\n",
       "        -1.83114428e-02,  2.45678313e-02,  1.81326196e-02,\n",
       "        -1.36736436e-02, -2.25671311e-03,  2.27259342e-02,\n",
       "        -1.32561363e-02,  5.31734750e-02,  2.84619071e-03,\n",
       "        -1.26052266e-02,  5.37055247e-02, -2.62217876e-02,\n",
       "         6.28262237e-02, -3.38792913e-02,  1.24346297e-02,\n",
       "         3.83221754e-03,  2.31522527e-02, -7.25013688e-02,\n",
       "        -4.14393516e-03, -4.29395624e-02, -9.25685000e-03,\n",
       "        -1.02920150e-02, -2.94399988e-02, -1.51161738e-02,\n",
       "         1.03488732e-02, -8.83047748e-03,  7.79083604e-03,\n",
       "         6.15880340e-02, -2.56217662e-02,  2.67890375e-02,\n",
       "        -3.48655134e-02, -3.35104167e-02,  4.58868928e-02,\n",
       "         2.87142489e-02, -1.73843373e-02,  9.46802050e-02,\n",
       "        -2.42618285e-02,  2.83706933e-02,  5.47285611e-03,\n",
       "        -3.05396169e-02, -2.04882696e-02,  1.14951087e-02,\n",
       "        -2.06156913e-02, -4.73047122e-02, -5.66245348e-04,\n",
       "         2.54014190e-02, -4.44825813e-02, -3.05529051e-02,\n",
       "        -2.27482207e-02,  5.34626050e-03, -1.77380331e-02,\n",
       "         8.93086940e-03,  6.29966473e-03, -4.71267030e-02,\n",
       "         9.71079525e-03, -1.98281500e-02, -1.95309334e-02,\n",
       "         2.61490345e-02,  2.61226087e-03, -2.84732785e-02,\n",
       "        -8.45033955e-03, -6.73167929e-02, -8.53152573e-02,\n",
       "        -3.01742554e-02,  3.68126743e-02,  2.59252619e-02,\n",
       "        -6.74630180e-02, -5.72894476e-02, -1.90711282e-02,\n",
       "        -2.98832785e-02, -1.49018550e-02, -6.44186884e-03,\n",
       "        -1.42151713e-02,  3.73985581e-02,  1.12889777e-03,\n",
       "         2.28629485e-02, -4.47167791e-02,  2.30516624e-02,\n",
       "         6.28941110e-04,  4.42759208e-02,  2.46650353e-02,\n",
       "         3.51332687e-02, -3.61626036e-02, -4.75540422e-02,\n",
       "         1.82497613e-02,  3.07629742e-02,  1.00453082e-03,\n",
       "        -1.84898712e-02, -2.19291323e-05,  7.50036165e-02,\n",
       "         3.62004489e-02,  6.58765137e-02, -1.86647549e-02,\n",
       "         4.20116708e-02, -2.29518279e-03,  6.42547905e-02,\n",
       "         5.11614494e-02, -1.55825363e-02, -7.13912013e-04,\n",
       "         3.42612527e-02, -6.07560622e-03,  2.43100282e-02,\n",
       "        -1.24313161e-02, -4.36682776e-02,  2.47560404e-02,\n",
       "        -3.65800150e-02,  2.03334130e-02, -3.50793228e-02,\n",
       "         1.50017394e-02,  7.63921663e-02,  6.04430996e-02,\n",
       "         6.65944070e-02,  3.30559001e-03,  3.46694440e-02,\n",
       "        -1.60528836e-03, -2.37293225e-02,  9.55966581e-03,\n",
       "        -8.56766943e-03, -1.43413739e-02,  9.41571295e-02,\n",
       "         3.45746800e-02,  7.35701248e-02,  2.54632607e-02,\n",
       "        -3.96389365e-02,  2.52091084e-02,  7.53591806e-02,\n",
       "        -3.82415317e-02, -3.73829082e-02, -5.41513264e-02,\n",
       "         2.40689311e-02, -3.08086630e-02, -6.20017806e-03,\n",
       "        -7.64318975e-03, -3.59188132e-02,  1.13591354e-03,\n",
       "        -4.66336682e-03,  2.37279944e-02, -4.54728678e-02,\n",
       "        -1.95234024e-03,  1.30089689e-02, -4.03874591e-02,\n",
       "         3.14237364e-02,  3.25081572e-02,  2.98243649e-02,\n",
       "        -7.06285820e-04, -8.04493278e-02, -1.45465825e-02,\n",
       "        -1.17486380e-02, -3.25348116e-02,  3.16704586e-02,\n",
       "        -4.22670171e-02,  6.71451464e-02, -1.01962589e-01,\n",
       "        -3.84004526e-02, -1.90569554e-02,  5.59220836e-02,\n",
       "         7.67453667e-03,  5.18109612e-02,  1.68128405e-02,\n",
       "        -1.31116370e-02,  2.82033090e-03,  1.55520777e-03,\n",
       "        -5.03698539e-04, -3.61106247e-02, -6.84431847e-03,\n",
       "         1.76924188e-02, -2.98450217e-02, -4.57745492e-02,\n",
       "         1.10833878e-02, -1.51629755e-02,  3.66877159e-03,\n",
       "         8.08090419e-02, -1.80434994e-02, -1.02002919e-03,\n",
       "        -4.84686781e-04,  3.22402976e-02, -1.65944416e-02,\n",
       "         1.84555084e-03,  5.07567152e-02,  1.58889573e-02,\n",
       "        -6.26498014e-02, -1.95618495e-02,  4.34029363e-02,\n",
       "        -5.68292849e-02,  1.05988301e-01, -4.80109230e-02,\n",
       "         1.00578191e-02,  2.19856240e-02, -3.14385854e-02,\n",
       "         1.16583519e-02,  3.97340581e-02, -1.13186873e-02,\n",
       "         5.83116896e-02,  2.77367770e-03,  6.33228794e-02,\n",
       "         4.29549068e-02,  2.16282960e-02,  3.85456122e-02,\n",
       "        -2.44158581e-02,  1.34006655e-02,  2.94845039e-03,\n",
       "         7.02531962e-03, -1.87546499e-02,  4.76556532e-02,\n",
       "         6.15999997e-02,  1.85416173e-02, -1.38640357e-02,\n",
       "        -4.43654172e-02, -2.19828505e-02,  1.19858095e-02,\n",
       "        -3.77185121e-02, -6.42945468e-02, -2.67555825e-02,\n",
       "         5.12968451e-02,  2.78437901e-02, -6.28402606e-02,\n",
       "        -3.17040607e-02,  2.21165419e-02, -1.41522484e-02,\n",
       "        -6.07152563e-03,  7.16667771e-02,  1.14130443e-02,\n",
       "         3.74974357e-03, -6.88136294e-02,  4.47597280e-02,\n",
       "        -3.12533230e-02,  1.41535457e-02, -3.08248736e-02,\n",
       "        -7.57714675e-04, -5.60959335e-03,  4.05325405e-02,\n",
       "         5.67538314e-04,  1.03435824e-02,  8.89485180e-02,\n",
       "        -8.93701427e-03, -6.23021014e-02,  2.01754626e-02,\n",
       "        -1.27847316e-02,  1.61152091e-02, -1.23151112e-02,\n",
       "         2.49236450e-02,  2.02202071e-02, -2.01466605e-02,\n",
       "         4.14759703e-02, -2.72540338e-02, -3.96626145e-02,\n",
       "        -2.26231981e-02,  1.40825671e-03,  1.52835129e-02,\n",
       "        -6.26358911e-02,  6.85891584e-02,  2.12807320e-02,\n",
       "        -4.11787592e-02,  7.12970197e-02, -2.85411458e-02,\n",
       "        -1.06836604e-02, -1.89546440e-02,  1.78563856e-02,\n",
       "        -3.75272222e-02,  6.14898279e-04,  4.38691266e-02,\n",
       "         1.56059489e-02,  3.15993093e-03,  5.58517501e-03,\n",
       "        -5.97155467e-03,  2.85605621e-02, -9.22785047e-03,\n",
       "         9.27611440e-03,  2.80324947e-02,  6.93220943e-02,\n",
       "        -3.44455056e-02, -2.25160457e-02,  2.57092100e-02,\n",
       "        -4.39213693e-33, -3.64305303e-02, -2.59271730e-03,\n",
       "         9.11506172e-03,  3.95197384e-02,  1.37440180e-02,\n",
       "         3.83444852e-03,  2.09218520e-03, -6.76697027e-03,\n",
       "         1.25045991e-02, -1.33823548e-02, -1.84267829e-03,\n",
       "         1.20097874e-02,  1.55763635e-02,  7.08817039e-04,\n",
       "         7.13027194e-02, -5.37559129e-02,  2.44811773e-02,\n",
       "        -4.40049879e-02, -1.36816325e-02, -1.33414520e-02,\n",
       "        -2.93123145e-02, -1.21151553e-02,  6.02591559e-02,\n",
       "         1.02625983e-02,  3.59790288e-02, -3.84313799e-02,\n",
       "         2.23757047e-02,  1.09116193e-02,  6.93021864e-02,\n",
       "         1.61975008e-02, -3.05023789e-02,  4.06713188e-02,\n",
       "        -3.92037407e-02, -3.48171964e-02,  4.40172926e-02,\n",
       "         2.78183296e-02, -5.45112882e-03, -2.34862808e-02,\n",
       "         9.80813522e-03,  2.96252985e-02,  4.15044799e-02,\n",
       "        -8.76813978e-02, -8.35824311e-02, -2.17032060e-02,\n",
       "        -3.72131839e-02, -8.14556330e-03, -1.64230820e-02,\n",
       "        -3.21031990e-03,  7.74314255e-03, -4.88729812e-02,\n",
       "        -3.05723445e-03, -2.07577776e-02,  1.43916719e-02,\n",
       "        -2.15989407e-02,  5.19237481e-02,  3.22398506e-02,\n",
       "         2.97001638e-02,  6.64230436e-02,  3.49241719e-02,\n",
       "         6.32981956e-02,  2.76506376e-02, -6.43676221e-02,\n",
       "        -1.97427161e-02, -6.66220039e-02, -2.80176308e-02,\n",
       "        -2.66223717e-02, -1.15307476e-02, -2.93887779e-03,\n",
       "         2.88166497e-02, -3.48906852e-02,  1.28499400e-02,\n",
       "         2.38518659e-02, -2.04858836e-02,  3.24630104e-02,\n",
       "         2.07587350e-02,  3.60320508e-02,  1.18892146e-02,\n",
       "         2.08262708e-02,  5.34499995e-02,  3.98998335e-02,\n",
       "         1.93194230e-03,  4.08157296e-02,  1.73660610e-02,\n",
       "         1.62020642e-02, -3.99374254e-02, -5.42060062e-02,\n",
       "        -9.92146507e-03, -2.20064223e-02,  2.27758195e-02,\n",
       "        -3.69535340e-03, -5.12675047e-02, -3.43792364e-02,\n",
       "         2.70803105e-02,  6.55443408e-03, -8.59292001e-02,\n",
       "        -6.78599924e-02, -6.93689054e-03,  1.56280994e-02,\n",
       "        -6.14049938e-03,  1.97633673e-02, -2.56496314e-02,\n",
       "        -8.55880696e-03, -6.69192197e-03, -1.37871597e-02,\n",
       "        -1.60989612e-02, -6.38105767e-03,  4.70548943e-02,\n",
       "        -3.73779167e-03, -2.61347592e-02,  9.47309891e-04,\n",
       "         5.62970527e-03, -4.70339209e-02, -2.40904242e-02,\n",
       "        -1.03060171e-01,  3.95706333e-02,  1.86298043e-02,\n",
       "         1.22608049e-02, -2.66108401e-02,  8.73114076e-03,\n",
       "        -1.45035638e-02, -2.18206160e-02, -5.02304658e-02,\n",
       "        -1.87203586e-02, -1.50403259e-02, -3.63763119e-03,\n",
       "         1.26317944e-02,  3.22695151e-02,  2.52542198e-02,\n",
       "        -2.95263287e-02, -1.22712953e-02, -1.14217876e-02,\n",
       "        -9.44961049e-03,  1.85265677e-07, -3.20790298e-02,\n",
       "         2.90722046e-02,  1.50097627e-02,  4.58586104e-02,\n",
       "        -4.58980501e-02,  8.51313472e-02,  1.87605899e-02,\n",
       "        -7.52920983e-03, -9.47737880e-03,  2.20605489e-02,\n",
       "        -1.64591670e-02,  1.37806144e-02, -5.93537372e-03,\n",
       "         1.98825598e-02, -1.72281619e-02, -5.15167788e-02,\n",
       "         7.51994178e-02, -2.18111817e-02,  1.31328316e-05,\n",
       "        -4.08613458e-02, -2.18479186e-02,  7.75562152e-02,\n",
       "         6.59543872e-02,  3.45364474e-02,  6.32862421e-03,\n",
       "        -3.45287062e-02,  2.41718329e-02, -5.22142462e-02,\n",
       "        -4.00038110e-03, -4.70077284e-02, -7.21944496e-03,\n",
       "        -6.05984963e-02, -4.96256724e-03, -1.06797442e-02,\n",
       "         3.90087441e-02, -4.15895367e-03,  5.15687577e-02,\n",
       "         1.44929374e-02,  8.72995798e-03,  5.83561920e-02,\n",
       "        -4.20899913e-02, -3.73950531e-03, -4.08154465e-02,\n",
       "        -3.81656550e-02,  2.13405979e-03,  3.52092809e-03,\n",
       "        -6.06536632e-03, -2.75366697e-02, -1.17570460e-02,\n",
       "        -2.33171578e-03,  2.78418884e-02, -2.67389156e-02,\n",
       "         2.94055287e-02, -3.15133743e-02, -4.89007728e-03,\n",
       "        -3.41910170e-03,  4.42337915e-02,  1.56635344e-02,\n",
       "         1.01597626e-02, -8.11970159e-02, -8.74217221e-06,\n",
       "         4.35417145e-02, -3.40959383e-03,  1.32463619e-01,\n",
       "        -5.27368188e-02,  4.36557457e-02,  3.99109684e-02,\n",
       "         6.80548207e-35,  2.35433877e-02, -4.56788801e-02,\n",
       "        -3.64247002e-02,  3.97049785e-02, -2.14084368e-02,\n",
       "        -1.54700142e-03,  9.18158069e-02, -7.23870331e-03,\n",
       "         7.68456701e-03,  2.62084957e-02, -2.25908495e-03]], dtype=float32)"
      ]
     },
     "execution_count": 22,
     "metadata": {},
     "output_type": "execute_result"
    }
   ],
   "source": [
    "svec"
   ]
  },
  {
   "cell_type": "markdown",
   "id": "fdbac728-3572-44bf-8ef5-3d34c1553789",
   "metadata": {},
   "source": [
    "###### search function expects 2 parameters that's why i have used numpy to conver from vec(1D) to svec(2D)\n"
   ]
  },
  {
   "cell_type": "markdown",
   "id": "390e8e9d-d931-431f-a67a-cdfc3505a5e0",
   "metadata": {},
   "source": [
    "### Step 5: Search for similar vector in the FAISS index created"
   ]
  },
  {
   "cell_type": "code",
   "execution_count": 23,
   "id": "e923a492-60b3-4303-b240-aac2fd038964",
   "metadata": {},
   "outputs": [],
   "source": [
    "distance, I = index.search(svec,k=2)"
   ]
  },
  {
   "cell_type": "code",
   "execution_count": 24,
   "id": "e0c60fe6-f3aa-487d-b4f6-77ac102ed91b",
   "metadata": {},
   "outputs": [
    {
     "data": {
      "text/plain": [
       "array([[3, 2]], dtype=int64)"
      ]
     },
     "execution_count": 24,
     "metadata": {},
     "output_type": "execute_result"
    }
   ],
   "source": [
    "I"
   ]
  },
  {
   "cell_type": "code",
   "execution_count": 26,
   "id": "554bd172-1a24-4d21-854e-2557cfd9d003",
   "metadata": {},
   "outputs": [
    {
     "data": {
      "text/plain": [
       "[[3, 2]]"
      ]
     },
     "execution_count": 26,
     "metadata": {},
     "output_type": "execute_result"
    }
   ],
   "source": [
    "I.tolist()"
   ]
  },
  {
   "cell_type": "code",
   "execution_count": 27,
   "id": "52894130-af73-4096-ac0c-68c07664bf35",
   "metadata": {},
   "outputs": [],
   "source": [
    "row_indicies = I.tolist()[0]"
   ]
  },
  {
   "cell_type": "code",
   "execution_count": 28,
   "id": "94c0cd8f-4254-49c2-93ff-ba4085241eb5",
   "metadata": {},
   "outputs": [
    {
     "data": {
      "text/plain": [
       "[3, 2]"
      ]
     },
     "execution_count": 28,
     "metadata": {},
     "output_type": "execute_result"
    }
   ],
   "source": [
    "row_indicies"
   ]
  },
  {
   "cell_type": "code",
   "execution_count": 29,
   "id": "7c92739e-a5fa-43ae-8d5a-c44537d93762",
   "metadata": {},
   "outputs": [
    {
     "data": {
      "text/html": [
       "<div>\n",
       "<style scoped>\n",
       "    .dataframe tbody tr th:only-of-type {\n",
       "        vertical-align: middle;\n",
       "    }\n",
       "\n",
       "    .dataframe tbody tr th {\n",
       "        vertical-align: top;\n",
       "    }\n",
       "\n",
       "    .dataframe thead th {\n",
       "        text-align: right;\n",
       "    }\n",
       "</style>\n",
       "<table border=\"1\" class=\"dataframe\">\n",
       "  <thead>\n",
       "    <tr style=\"text-align: right;\">\n",
       "      <th></th>\n",
       "      <th>text</th>\n",
       "      <th>category</th>\n",
       "    </tr>\n",
       "  </thead>\n",
       "  <tbody>\n",
       "    <tr>\n",
       "      <th>3</th>\n",
       "      <td>Vibrant color jeans for male are becoming a trend</td>\n",
       "      <td>Fashion</td>\n",
       "    </tr>\n",
       "    <tr>\n",
       "      <th>2</th>\n",
       "      <td>These are the latest fashion trends for this week</td>\n",
       "      <td>Fashion</td>\n",
       "    </tr>\n",
       "  </tbody>\n",
       "</table>\n",
       "</div>"
      ],
      "text/plain": [
       "                                                text category\n",
       "3  Vibrant color jeans for male are becoming a trend  Fashion\n",
       "2  These are the latest fashion trends for this week  Fashion"
      ]
     },
     "execution_count": 29,
     "metadata": {},
     "output_type": "execute_result"
    }
   ],
   "source": [
    "df.loc[row_indicies]"
   ]
  },
  {
   "cell_type": "code",
   "execution_count": 25,
   "id": "93c6928f-375a-414d-8406-7952c7f97749",
   "metadata": {},
   "outputs": [
    {
     "data": {
      "text/html": [
       "<div>\n",
       "<style scoped>\n",
       "    .dataframe tbody tr th:only-of-type {\n",
       "        vertical-align: middle;\n",
       "    }\n",
       "\n",
       "    .dataframe tbody tr th {\n",
       "        vertical-align: top;\n",
       "    }\n",
       "\n",
       "    .dataframe thead th {\n",
       "        text-align: right;\n",
       "    }\n",
       "</style>\n",
       "<table border=\"1\" class=\"dataframe\">\n",
       "  <thead>\n",
       "    <tr style=\"text-align: right;\">\n",
       "      <th></th>\n",
       "      <th>text</th>\n",
       "      <th>category</th>\n",
       "    </tr>\n",
       "  </thead>\n",
       "  <tbody>\n",
       "    <tr>\n",
       "      <th>3</th>\n",
       "      <td>Vibrant color jeans for male are becoming a trend</td>\n",
       "      <td>Fashion</td>\n",
       "    </tr>\n",
       "    <tr>\n",
       "      <th>2</th>\n",
       "      <td>These are the latest fashion trends for this week</td>\n",
       "      <td>Fashion</td>\n",
       "    </tr>\n",
       "  </tbody>\n",
       "</table>\n",
       "</div>"
      ],
      "text/plain": [
       "                                                text category\n",
       "3  Vibrant color jeans for male are becoming a trend  Fashion\n",
       "2  These are the latest fashion trends for this week  Fashion"
      ]
     },
     "execution_count": 25,
     "metadata": {},
     "output_type": "execute_result"
    }
   ],
   "source": [
    "df.loc[I[0]]"
   ]
  },
  {
   "cell_type": "code",
   "execution_count": 30,
   "id": "d8ada283-1329-4f4b-a519-3c92e5a10073",
   "metadata": {},
   "outputs": [
    {
     "data": {
      "text/plain": [
       "'I want to buy a polo t-shirt'"
      ]
     },
     "execution_count": 30,
     "metadata": {},
     "output_type": "execute_result"
    }
   ],
   "source": [
    "search_query"
   ]
  },
  {
   "cell_type": "markdown",
   "id": "c37d7f71-5d15-4ea3-b85b-67af34ee51cd",
   "metadata": {},
   "source": [
    "You can see that the two results from the dataframe are similar to a search_query"
   ]
  },
  {
   "cell_type": "markdown",
   "id": "7a37e946-235b-4170-b66e-5f9bb8bbb9aa",
   "metadata": {},
   "source": [
    "##### Example-2 "
   ]
  },
  {
   "cell_type": "code",
   "execution_count": 31,
   "id": "d2c813da-2797-4265-81f3-dc8d96789cab",
   "metadata": {},
   "outputs": [],
   "source": [
    "search_query = \"looking for places to visit during the holidays\""
   ]
  },
  {
   "cell_type": "code",
   "execution_count": 32,
   "id": "5089f4cf-b14a-4691-bcbe-f238351a9de7",
   "metadata": {},
   "outputs": [
    {
     "data": {
      "text/html": [
       "<div>\n",
       "<style scoped>\n",
       "    .dataframe tbody tr th:only-of-type {\n",
       "        vertical-align: middle;\n",
       "    }\n",
       "\n",
       "    .dataframe tbody tr th {\n",
       "        vertical-align: top;\n",
       "    }\n",
       "\n",
       "    .dataframe thead th {\n",
       "        text-align: right;\n",
       "    }\n",
       "</style>\n",
       "<table border=\"1\" class=\"dataframe\">\n",
       "  <thead>\n",
       "    <tr style=\"text-align: right;\">\n",
       "      <th></th>\n",
       "      <th>text</th>\n",
       "      <th>category</th>\n",
       "    </tr>\n",
       "  </thead>\n",
       "  <tbody>\n",
       "    <tr>\n",
       "      <th>6</th>\n",
       "      <td>Exciting vacation destinations for your next trip</td>\n",
       "      <td>Travel</td>\n",
       "    </tr>\n",
       "    <tr>\n",
       "      <th>7</th>\n",
       "      <td>Maldives and Srilanka are gaining popularity in terms of low budget vacation places</td>\n",
       "      <td>Travel</td>\n",
       "    </tr>\n",
       "  </tbody>\n",
       "</table>\n",
       "</div>"
      ],
      "text/plain": [
       "                                                                                  text  \\\n",
       "6                                    Exciting vacation destinations for your next trip   \n",
       "7  Maldives and Srilanka are gaining popularity in terms of low budget vacation places   \n",
       "\n",
       "  category  \n",
       "6   Travel  \n",
       "7   Travel  "
      ]
     },
     "execution_count": 32,
     "metadata": {},
     "output_type": "execute_result"
    }
   ],
   "source": [
    "vec = encoder.encode(search_query)\n",
    "vec.shape\n",
    "\n",
    "# convert into 2 d\n",
    "\n",
    "svec = np.array(vec).reshape(1,-1)\n",
    "svec.shape\n",
    "\n",
    "# Search \n",
    "distance, I = index.search(svec, k=2)\n",
    "df.loc[I.tolist()[0]]"
   ]
  },
  {
   "cell_type": "markdown",
   "id": "ec959f01-a0ab-4e1f-9fd4-d2806e3886c7",
   "metadata": {},
   "source": [
    "#### Example-3"
   ]
  },
  {
   "cell_type": "code",
   "execution_count": 33,
   "id": "87b53bf0-8405-45ab-8c2d-b4e11d72c3c5",
   "metadata": {},
   "outputs": [],
   "source": [
    "search_query = \"An apple a day keeps the doctor away\""
   ]
  },
  {
   "cell_type": "code",
   "execution_count": 34,
   "id": "0867902a-fd61-46a2-9f93-97a3c02a7d93",
   "metadata": {},
   "outputs": [
    {
     "data": {
      "text/html": [
       "<div>\n",
       "<style scoped>\n",
       "    .dataframe tbody tr th:only-of-type {\n",
       "        vertical-align: middle;\n",
       "    }\n",
       "\n",
       "    .dataframe tbody tr th {\n",
       "        vertical-align: top;\n",
       "    }\n",
       "\n",
       "    .dataframe thead th {\n",
       "        text-align: right;\n",
       "    }\n",
       "</style>\n",
       "<table border=\"1\" class=\"dataframe\">\n",
       "  <thead>\n",
       "    <tr style=\"text-align: right;\">\n",
       "      <th></th>\n",
       "      <th>text</th>\n",
       "      <th>category</th>\n",
       "    </tr>\n",
       "  </thead>\n",
       "  <tbody>\n",
       "    <tr>\n",
       "      <th>1</th>\n",
       "      <td>Fruits, whole grains and vegetables helps control blood pressure</td>\n",
       "      <td>Health</td>\n",
       "    </tr>\n",
       "    <tr>\n",
       "      <th>0</th>\n",
       "      <td>Meditation and yoga can improve mental health</td>\n",
       "      <td>Health</td>\n",
       "    </tr>\n",
       "  </tbody>\n",
       "</table>\n",
       "</div>"
      ],
      "text/plain": [
       "                                                               text category\n",
       "1  Fruits, whole grains and vegetables helps control blood pressure   Health\n",
       "0                     Meditation and yoga can improve mental health   Health"
      ]
     },
     "execution_count": 34,
     "metadata": {},
     "output_type": "execute_result"
    }
   ],
   "source": [
    "vec = encoder.encode(search_query)\n",
    "vec.shape\n",
    "\n",
    "# convert into 2 d\n",
    "\n",
    "svec = np.array(vec).reshape(1,-1)\n",
    "svec.shape\n",
    "\n",
    "# Search \n",
    "distance, I = index.search(svec, k=2)\n",
    "df.loc[I.tolist()[0]]"
   ]
  }
 ],
 "metadata": {
  "kernelspec": {
   "display_name": "Python 3 (ipykernel)",
   "language": "python",
   "name": "python3"
  },
  "language_info": {
   "codemirror_mode": {
    "name": "ipython",
    "version": 3
   },
   "file_extension": ".py",
   "mimetype": "text/x-python",
   "name": "python",
   "nbconvert_exporter": "python",
   "pygments_lexer": "ipython3",
   "version": "3.11.7"
  }
 },
 "nbformat": 4,
 "nbformat_minor": 5
}
